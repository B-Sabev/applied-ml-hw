{
  "nbformat": 4,
  "nbformat_minor": 0,
  "metadata": {
    "colab": {
      "name": "Assignment1.ipynb",
      "provenance": [],
      "include_colab_link": true
    },
    "kernelspec": {
      "name": "python3",
      "display_name": "Python 3"
    },
    "language_info": {
      "name": "python"
    }
  },
  "cells": [
    {
      "cell_type": "markdown",
      "metadata": {
        "id": "view-in-github",
        "colab_type": "text"
      },
      "source": [
        "<a href=\"https://colab.research.google.com/github/B-Sabev/applied-ml-hw/blob/main/Assignment1.ipynb\" target=\"_parent\"><img src=\"https://colab.research.google.com/assets/colab-badge.svg\" alt=\"Open In Colab\"/></a>"
      ]
    },
    {
      "cell_type": "code",
      "execution_count": 14,
      "metadata": {
        "id": "aWuUCkGn6kqY",
        "colab": {
          "base_uri": "https://localhost:8080/"
        },
        "outputId": "c0716ab6-ded2-468f-c2e5-3896b9ccf0c3"
      },
      "outputs": [
        {
          "output_type": "stream",
          "name": "stdout",
          "text": [
            "Drive already mounted at /content/drive; to attempt to forcibly remount, call drive.mount(\"/content/drive\", force_remount=True).\n",
            "Assignment1.ipynb  README.md  train_data.csv\n"
          ]
        }
      ],
      "source": [
        "from google.colab import drive\n",
        "import os\n",
        "\n",
        "\n",
        "drive.mount('/content/drive')\n",
        "os.chdir('/content/drive/MyDrive/AI_Master/AppliedML/Assignment1/applied-ml-hw')\n",
        "!ls"
      ]
    },
    {
      "cell_type": "code",
      "source": [
        "!git config --global user.name B-Sabev\n",
        "!git config --global user.email borislav.sabev@aiesec.net\n",
        "# doesn't work on the push \n",
        "!git add .\n",
        "!git commit -m \"test commmit from google colab\"\n",
        "!git push origin master\n"
      ],
      "metadata": {
        "id": "GT1U-Mf9-QRC"
      },
      "execution_count": 2,
      "outputs": []
    },
    {
      "cell_type": "code",
      "source": [
        ""
      ],
      "metadata": {
        "id": "bwozXDXpBrGV"
      },
      "execution_count": null,
      "outputs": []
    }
  ]
}